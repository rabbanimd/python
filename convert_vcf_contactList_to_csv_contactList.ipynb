{
 "cells": [
  {
   "cell_type": "code",
   "execution_count": null,
   "id": "7c86c40c",
   "metadata": {},
   "outputs": [],
   "source": [
    "# #######################\n",
    "# Md Rabbani            #\n",
    "# 12/2021               #\n",
    "#########################"
   ]
  },
  {
   "cell_type": "code",
   "execution_count": 2,
   "id": "4d2b55b3",
   "metadata": {},
   "outputs": [],
   "source": [
    "import csv"
   ]
  },
  {
   "cell_type": "code",
   "execution_count": 107,
   "id": "5dd39fb4",
   "metadata": {},
   "outputs": [],
   "source": [
    "def extract_data():\n",
    "    file = open(\"contacts.vcf\", \"r\")\n",
    "    people = []\n",
    "    _input = \"\"\n",
    "    for _input in file:\n",
    "        line = _input.rstrip()\n",
    "        if line == \"BEGIN:VCARD\":\n",
    "            _input = file.readline()\n",
    "            line = _input.rstrip()\n",
    "            entry = {}\n",
    "            entry[\"FN\"]=\"\"\n",
    "            entry[\"TEL\"]=\"\"\n",
    "            while line != \"END:VCARD\":\n",
    "                _input = file.readline()\n",
    "                line = _input.rstrip()\n",
    "                splitted = line.split(':')\n",
    "                if len(splitted) == 1:\n",
    "                    continue\n",
    "                if \"FN\" in splitted[0]:\n",
    "                    entry[\"FN\"]=splitted[1]\n",
    "                elif \"TEL\" in splitted[0]:\n",
    "                    entry[\"TEL\"] = splitted[1]\n",
    "            people.append(entry)\n",
    "    file.close()\n",
    "    return people"
   ]
  },
  {
   "cell_type": "code",
   "execution_count": 108,
   "id": "8197dbf5",
   "metadata": {
    "scrolled": true
   },
   "outputs": [],
   "source": [
    "data = extract_data()"
   ]
  },
  {
   "cell_type": "code",
   "execution_count": 130,
   "id": "38567f2e",
   "metadata": {},
   "outputs": [],
   "source": [
    "out_file = open(\"contact.csv\",\"w\")\n",
    "out_file.write(\"Full Name\"+','+\"Phone Number\"+'\\n')\n",
    "# csv_writer = csv.writer(out_file)\n",
    "for val in data:\n",
    "    if len(val[\"FN\"]) == 0 or len(val[\"TEL\"])==0:\n",
    "        continue\n",
    "    row = val[\"FN\"]+','+val[\"TEL\"]+'\\n'\n",
    "    out_file.write(row)\n",
    "out_file.close()"
   ]
  }
 ],
 "metadata": {
  "kernelspec": {
   "display_name": "Python 3 (ipykernel)",
   "language": "python",
   "name": "python3"
  },
  "language_info": {
   "codemirror_mode": {
    "name": "ipython",
    "version": 3
   },
   "file_extension": ".py",
   "mimetype": "text/x-python",
   "name": "python",
   "nbconvert_exporter": "python",
   "pygments_lexer": "ipython3",
   "version": "3.9.9"
  }
 },
 "nbformat": 4,
 "nbformat_minor": 5
}
